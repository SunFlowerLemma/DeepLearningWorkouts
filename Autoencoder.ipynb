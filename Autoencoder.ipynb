{
  "nbformat": 4,
  "nbformat_minor": 0,
  "metadata": {
    "colab": {
      "provenance": [],
      "authorship_tag": "ABX9TyMai7sfRbC4zZCYIOi++Ez7",
      "include_colab_link": true
    },
    "kernelspec": {
      "name": "python3",
      "display_name": "Python 3"
    },
    "language_info": {
      "name": "python"
    }
  },
  "cells": [
    {
      "cell_type": "markdown",
      "metadata": {
        "id": "view-in-github",
        "colab_type": "text"
      },
      "source": [
        "<a href=\"https://colab.research.google.com/github/SunFlowerLemma/DeepLearningWorkouts/blob/master/Autoencoder.ipynb\" target=\"_parent\"><img src=\"https://colab.research.google.com/assets/colab-badge.svg\" alt=\"Open In Colab\"/></a>"
      ]
    },
    {
      "cell_type": "code",
      "execution_count": null,
      "metadata": {
        "id": "otF8MIAw4bIh"
      },
      "outputs": [],
      "source": [
        "import tensorflow as tf\n",
        "from keras.datasets import mnist\n",
        "from google.colab import output\n",
        "\n",
        "# continue working on this\n",
        "\n",
        "\n",
        "encoder = tf.keras.Sequential([tf.keras.layers.Dense(2)])\n",
        "decoder = tf.keras.Sequential([tf.keras.layers.Dense(3)])\n",
        "autoencoder = tf.keras.Sequential([encoder, decoder])\n",
        "\n",
        "optimizer = tf.keras.optimizers.SGD(learning_rate=0.5)\n",
        "autoencoder.compile(loss=\"mse\", optimizer=optimizer)\n",
        "\n",
        "\n",
        "\n",
        "history = autoencoder.fit(X_train, X_train, epochs=500, verbose=False)\n",
        "\n",
        "X_test = mnist.data[60_000:]\n",
        "\n",
        "mnist = fetch_openml('mnist_784', as_frame=False)\n",
        "\n",
        "\n",
        "X_test, y_test = mnist.data[60_000:], mnist.target[60_000:]\n",
        "\n",
        "pca = PCA()\n",
        "pca.fit(X_train)\n",
        "cumsum = np.cumsum(pca.explained_variance_ratio_)\n",
        "d = np.argmax(cumsum >= 0.95) + 1  # d equals 154\n",
        "stacked_encoder = tf.keras.Sequential([\n",
        "    tf.keras.layers.Flatten(),\n",
        "    tf.keras.layers.Dense(100, activation=\"relu\"),\n",
        "    tf.keras.layers.Dense(30, activation=\"relu\"),\n",
        "])\n",
        "stacked_decoder = tf.keras.Sequential([\n",
        "    tf.keras.layers.Dense(100, activation=\"relu\"),\n",
        "    tf.keras.layers.Dense(28 * 28),\n",
        "    tf.keras.layers.Reshape([28, 28])\n",
        "])\n",
        "stacked_ae = tf.keras.Sequential([stacked_encoder, stacked_decoder])\n",
        "\n",
        "stacked_ae.compile(loss=\"mse\", optimizer=\"nadam\")\n",
        "history = stacked_ae.fit(X_train, X_train, epochs=20,\n",
        "                         validation_data=(X_valid, X_valid))\n",
        "output.clear()"
      ]
    }
  ]
}